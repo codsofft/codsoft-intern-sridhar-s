{
  "nbformat": 4,
  "nbformat_minor": 0,
  "metadata": {
    "colab": {
      "provenance": [],
      "authorship_tag": "ABX9TyN7l/R3slEb1qNPpcFr7JmX",
      "include_colab_link": true
    },
    "kernelspec": {
      "name": "python3",
      "display_name": "Python 3"
    },
    "language_info": {
      "name": "python"
    }
  },
  "cells": [
    {
      "cell_type": "markdown",
      "metadata": {
        "id": "view-in-github",
        "colab_type": "text"
      },
      "source": [
        "<a href=\"https://colab.research.google.com/github/codsofft/codsoft-intern-sridhar-s/blob/main/Codsoft_task_3_sales_prediction_data.ipynb\" target=\"_parent\"><img src=\"https://colab.research.google.com/assets/colab-badge.svg\" alt=\"Open In Colab\"/></a>"
      ]
    },
    {
      "cell_type": "code",
      "execution_count": 1,
      "metadata": {
        "colab": {
          "base_uri": "https://localhost:8080/",
          "height": 1000
        },
        "id": "ixq7XwNFeTQu",
        "outputId": "8a857e5a-3ca1-473e-8096-9f084726c97b"
      },
      "outputs": [
        {
          "output_type": "stream",
          "name": "stdout",
          "text": [
            "First few rows of the dataset:\n",
            "      TV  Radio  Newspaper  Sales\n",
            "0  230.1   37.8       69.2   22.1\n",
            "1   44.5   39.3       45.1   10.4\n",
            "2   17.2   45.9       69.3   12.0\n",
            "3  151.5   41.3       58.5   16.5\n",
            "4  180.8   10.8       58.4   17.9\n",
            "\n",
            "Missing values in each column:\n",
            "TV           0\n",
            "Radio        0\n",
            "Newspaper    0\n",
            "Sales        0\n",
            "dtype: int64\n",
            "\n",
            "Linear Regression Model Mean Squared Error: 2.9077569102710896\n",
            "Linear Regression Model R^2 Score: 0.9059011844150826\n",
            "\n",
            "Feature Coefficients:\n",
            "Feature: TV, Coefficient: 0.05450927083721978\n",
            "Feature: Radio, Coefficient: 0.10094536239295579\n",
            "Feature: Newspaper, Coefficient: 0.0043366468220340446\n"
          ]
        },
        {
          "output_type": "display_data",
          "data": {
            "text/plain": [
              "<Figure size 1000x600 with 1 Axes>"
            ],
            "image/png": "[encoded data removed]"
          },
          "metadata": {}
        },
        {
          "output_type": "stream",
          "name": "stdout",
          "text": [
            "\n",
            "Polynomial Regression Model Mean Squared Error: 1.44254263690159\n",
            "Polynomial Regression Model R^2 Score: 0.9533174341074723\n",
            "\n",
            "Random Forest Regressor Mean Squared Error: 1.4374328500000009\n",
            "Random Forest Regressor R^2 Score: 0.9534827934927883\n"
          ]
        }
      ],
      "source": [
        "import pandas as pd\n",
        "import numpy as np\n",
        "import matplotlib.pyplot as plt\n",
        "from sklearn.model_selection import train_test_split\n",
        "from sklearn.linear_model import LinearRegression\n",
        "from sklearn.metrics import mean_squared_error, r2_score\n",
        "from sklearn.preprocessing import PolynomialFeatures\n",
        "from sklearn.ensemble import RandomForestRegressor\n",
        "\n",
        "data = pd.read_csv('/content/sample_data/advertising.csv')\n",
        "\n",
        "print(\"First few rows of the dataset:\")\n",
        "print(data.head())\n",
        "\n",
        "print(\"\\nMissing values in each column:\")\n",
        "print(data.isnull().sum())\n",
        "\n",
        "X = data[['TV', 'Radio', 'Newspaper']]\n",
        "y = data['Sales']\n",
        "\n",
        "X_train, X_test, y_train, y_test = train_test_split(X, y, test_size=0.2, random_state=42)\n",
        "\n",
        "model = LinearRegression()\n",
        "model.fit(X_train, y_train)\n",
        "\n",
        "y_pred = model.predict(X_test)\n",
        "\n",
        "mse = mean_squared_error(y_test, y_pred)\n",
        "r2 = r2_score(y_test, y_pred)\n",
        "\n",
        "print(f\"\\nLinear Regression Model Mean Squared Error: {mse}\")\n",
        "print(f\"Linear Regression Model R^2 Score: {r2}\")\n",
        "\n",
        "coefficients = model.coef_\n",
        "features = X.columns\n",
        "\n",
        "print(\"\\nFeature Coefficients:\")\n",
        "for feature, coef in zip(features, coefficients):\n",
        "    print(f'Feature: {feature}, Coefficient: {coef}')\n",
        "\n",
        "residuals = y_test - y_pred\n",
        "\n",
        "plt.figure(figsize=(10, 6))\n",
        "plt.scatter(y_pred, residuals)\n",
        "plt.xlabel('Predicted Sales')\n",
        "plt.ylabel('Residuals')\n",
        "plt.title('Residuals vs Predicted Sales')\n",
        "plt.axhline(y=0, color='r', linestyle='--')\n",
        "plt.show()\n",
        "\n",
        "poly = PolynomialFeatures(degree=2)\n",
        "X_poly = poly.fit_transform(X)\n",
        "\n",
        "X_train_poly, X_test_poly, y_train, y_test = train_test_split(X_poly, y, test_size=0.2, random_state=42)\n",
        "\n",
        "model_poly = LinearRegression()\n",
        "model_poly.fit(X_train_poly, y_train)\n",
        "\n",
        "y_pred_poly = model_poly.predict(X_test_poly)\n",
        "\n",
        "mse_poly = mean_squared_error(y_test, y_pred_poly)\n",
        "r2_poly = r2_score(y_test, y_pred_poly)\n",
        "\n",
        "print(f\"\\nPolynomial Regression Model Mean Squared Error: {mse_poly}\")\n",
        "print(f\"Polynomial Regression Model R^2 Score: {r2_poly}\")\n",
        "\n",
        "\n",
        "rf_model = RandomForestRegressor(n_estimators=100, random_state=42)\n",
        "rf_model.fit(X_train, y_train)\n",
        "\n",
        "\n",
        "y_pred_rf = rf_model.predict(X_test)\n",
        "\n",
        "\n",
        "mse_rf = mean_squared_error(y_test, y_pred_rf)\n",
        "r2_rf = r2_score(y_test, y_pred_rf)\n",
        "\n",
        "print(f\"\\nRandom Forest Regressor Mean Squared Error: {mse_rf}\")\n",
        "print(f\"Random Forest Regressor R^2 Score: {r2_rf}\")\n"
      ]
    }
  ]
}